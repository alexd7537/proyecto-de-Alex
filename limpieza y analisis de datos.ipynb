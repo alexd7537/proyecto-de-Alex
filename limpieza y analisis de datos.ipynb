{
 "cells": [
  {
   "cell_type": "code",
   "execution_count": 5,
   "id": "794316af-c139-4dd6-b688-298879cd93d3",
   "metadata": {},
   "outputs": [],
   "source": [
    "import pandas as pd\n",
    "import matplotlib.pyplot as plt\n",
    "import seaborn as sns\n",
    "import numpy as np"
   ]
  },
  {
   "cell_type": "code",
   "execution_count": 7,
   "id": "ac974588-3900-4e99-92ca-d42369380045",
   "metadata": {},
   "outputs": [],
   "source": [
    "basedat= pd.read_csv(r\"C:\\Users\\alexd\\OneDrive\\Escritorio\\trabajo de proga\\positivos_covid.csv\", sep = (';'))"
   ]
  },
  {
   "cell_type": "code",
   "execution_count": 8,
   "id": "741063bb-d2dc-4a45-97f0-99d7dc9f4cb5",
   "metadata": {},
   "outputs": [
    {
     "data": {
      "text/html": [
       "<div>\n",
       "<style scoped>\n",
       "    .dataframe tbody tr th:only-of-type {\n",
       "        vertical-align: middle;\n",
       "    }\n",
       "\n",
       "    .dataframe tbody tr th {\n",
       "        vertical-align: top;\n",
       "    }\n",
       "\n",
       "    .dataframe thead th {\n",
       "        text-align: right;\n",
       "    }\n",
       "</style>\n",
       "<table border=\"1\" class=\"dataframe\">\n",
       "  <thead>\n",
       "    <tr style=\"text-align: right;\">\n",
       "      <th></th>\n",
       "      <th>FECHA_CORTE</th>\n",
       "      <th>DEPARTAMENTO</th>\n",
       "      <th>PROVINCIA</th>\n",
       "      <th>DISTRITO</th>\n",
       "      <th>METODODX</th>\n",
       "      <th>EDAD</th>\n",
       "      <th>SEXO</th>\n",
       "      <th>FECHA_RESULTADO</th>\n",
       "      <th>UBIGEO</th>\n",
       "      <th>id_persona</th>\n",
       "    </tr>\n",
       "  </thead>\n",
       "  <tbody>\n",
       "    <tr>\n",
       "      <th>0</th>\n",
       "      <td>20241203</td>\n",
       "      <td>TUMBES</td>\n",
       "      <td>TUMBES</td>\n",
       "      <td>TUMBES</td>\n",
       "      <td>AG</td>\n",
       "      <td>46.0</td>\n",
       "      <td>FEMENINO</td>\n",
       "      <td>20221207.0</td>\n",
       "      <td>240101.0</td>\n",
       "      <td>203499.0</td>\n",
       "    </tr>\n",
       "    <tr>\n",
       "      <th>1</th>\n",
       "      <td>20241203</td>\n",
       "      <td>LIMA</td>\n",
       "      <td>LIMA</td>\n",
       "      <td>JESUS MARIA</td>\n",
       "      <td>AG</td>\n",
       "      <td>69.0</td>\n",
       "      <td>FEMENINO</td>\n",
       "      <td>20230822.0</td>\n",
       "      <td>150113.0</td>\n",
       "      <td>221397.0</td>\n",
       "    </tr>\n",
       "    <tr>\n",
       "      <th>2</th>\n",
       "      <td>20241203</td>\n",
       "      <td>SAN MARTIN</td>\n",
       "      <td>MOYOBAMBA</td>\n",
       "      <td>MOYOBAMBA</td>\n",
       "      <td>AG</td>\n",
       "      <td>55.0</td>\n",
       "      <td>FEMENINO</td>\n",
       "      <td>20240108.0</td>\n",
       "      <td>220101.0</td>\n",
       "      <td>295651.0</td>\n",
       "    </tr>\n",
       "    <tr>\n",
       "      <th>3</th>\n",
       "      <td>20241203</td>\n",
       "      <td>AREQUIPA</td>\n",
       "      <td>CAYLLOMA</td>\n",
       "      <td>COPORAQUE</td>\n",
       "      <td>AG</td>\n",
       "      <td>50.0</td>\n",
       "      <td>MASCULINO</td>\n",
       "      <td>20230824.0</td>\n",
       "      <td>40506.0</td>\n",
       "      <td>851625.0</td>\n",
       "    </tr>\n",
       "  </tbody>\n",
       "</table>\n",
       "</div>"
      ],
      "text/plain": [
       "   FECHA_CORTE DEPARTAMENTO  PROVINCIA     DISTRITO METODODX  EDAD       SEXO  \\\n",
       "0     20241203       TUMBES     TUMBES       TUMBES       AG  46.0   FEMENINO   \n",
       "1     20241203         LIMA       LIMA  JESUS MARIA       AG  69.0   FEMENINO   \n",
       "2     20241203   SAN MARTIN  MOYOBAMBA    MOYOBAMBA       AG  55.0   FEMENINO   \n",
       "3     20241203     AREQUIPA   CAYLLOMA    COPORAQUE       AG  50.0  MASCULINO   \n",
       "\n",
       "   FECHA_RESULTADO    UBIGEO  id_persona  \n",
       "0       20221207.0  240101.0    203499.0  \n",
       "1       20230822.0  150113.0    221397.0  \n",
       "2       20240108.0  220101.0    295651.0  \n",
       "3       20230824.0   40506.0    851625.0  "
      ]
     },
     "execution_count": 8,
     "metadata": {},
     "output_type": "execute_result"
    }
   ],
   "source": [
    "basedat.head(4)"
   ]
  },
  {
   "cell_type": "code",
   "execution_count": 9,
   "id": "e44df8d8-fb46-495c-ade2-d91855fa435e",
   "metadata": {},
   "outputs": [
    {
     "data": {
      "text/plain": [
       "FECHA_CORTE          int64\n",
       "DEPARTAMENTO        object\n",
       "PROVINCIA           object\n",
       "DISTRITO            object\n",
       "METODODX            object\n",
       "EDAD               float64\n",
       "SEXO                object\n",
       "FECHA_RESULTADO    float64\n",
       "UBIGEO             float64\n",
       "id_persona         float64\n",
       "dtype: object"
      ]
     },
     "execution_count": 9,
     "metadata": {},
     "output_type": "execute_result"
    }
   ],
   "source": [
    "basedat.dtypes"
   ]
  },
  {
   "cell_type": "code",
   "execution_count": 10,
   "id": "c8f0edea-7165-44f6-b134-ad9b1999ab92",
   "metadata": {},
   "outputs": [
    {
     "name": "stdout",
     "output_type": "stream",
     "text": [
      "<class 'pandas.core.frame.DataFrame'>\n",
      "RangeIndex: 4585360 entries, 0 to 4585359\n",
      "Data columns (total 10 columns):\n",
      " #   Column           Dtype  \n",
      "---  ------           -----  \n",
      " 0   FECHA_CORTE      int64  \n",
      " 1   DEPARTAMENTO     object \n",
      " 2   PROVINCIA        object \n",
      " 3   DISTRITO         object \n",
      " 4   METODODX         object \n",
      " 5   EDAD             float64\n",
      " 6   SEXO             object \n",
      " 7   FECHA_RESULTADO  float64\n",
      " 8   UBIGEO           float64\n",
      " 9   id_persona       float64\n",
      "dtypes: float64(4), int64(1), object(5)\n",
      "memory usage: 349.8+ MB\n"
     ]
    }
   ],
   "source": [
    "basedat.info()"
   ]
  },
  {
   "cell_type": "code",
   "execution_count": 15,
   "id": "c073f434-03d3-45b5-ac02-c5680b2e3f2d",
   "metadata": {},
   "outputs": [
    {
     "data": {
      "text/html": [
       "<div>\n",
       "<style scoped>\n",
       "    .dataframe tbody tr th:only-of-type {\n",
       "        vertical-align: middle;\n",
       "    }\n",
       "\n",
       "    .dataframe tbody tr th {\n",
       "        vertical-align: top;\n",
       "    }\n",
       "\n",
       "    .dataframe thead th {\n",
       "        text-align: right;\n",
       "    }\n",
       "</style>\n",
       "<table border=\"1\" class=\"dataframe\">\n",
       "  <thead>\n",
       "    <tr style=\"text-align: right;\">\n",
       "      <th></th>\n",
       "      <th>FECHA_CORTE</th>\n",
       "      <th>EDAD</th>\n",
       "      <th>FECHA_RESULTADO</th>\n",
       "      <th>UBIGEO</th>\n",
       "      <th>id_persona</th>\n",
       "    </tr>\n",
       "  </thead>\n",
       "  <tbody>\n",
       "    <tr>\n",
       "      <th>count</th>\n",
       "      <td>4585360.0</td>\n",
       "      <td>4.585007e+06</td>\n",
       "      <td>4.583337e+06</td>\n",
       "      <td>4.348706e+06</td>\n",
       "      <td>1.236900e+04</td>\n",
       "    </tr>\n",
       "    <tr>\n",
       "      <th>mean</th>\n",
       "      <td>20241203.0</td>\n",
       "      <td>4.079146e+01</td>\n",
       "      <td>2.021343e+07</td>\n",
       "      <td>1.298254e+05</td>\n",
       "      <td>1.475524e+07</td>\n",
       "    </tr>\n",
       "    <tr>\n",
       "      <th>std</th>\n",
       "      <td>0.0</td>\n",
       "      <td>1.771647e+01</td>\n",
       "      <td>1.413774e+04</td>\n",
       "      <td>5.324980e+04</td>\n",
       "      <td>1.031654e+07</td>\n",
       "    </tr>\n",
       "    <tr>\n",
       "      <th>min</th>\n",
       "      <td>20241203.0</td>\n",
       "      <td>0.000000e+00</td>\n",
       "      <td>1.899123e+07</td>\n",
       "      <td>1.010100e+04</td>\n",
       "      <td>2.130000e+03</td>\n",
       "    </tr>\n",
       "    <tr>\n",
       "      <th>25%</th>\n",
       "      <td>20241203.0</td>\n",
       "      <td>2.800000e+01</td>\n",
       "      <td>2.021013e+07</td>\n",
       "      <td>1.001020e+05</td>\n",
       "      <td>5.549763e+06</td>\n",
       "    </tr>\n",
       "    <tr>\n",
       "      <th>50%</th>\n",
       "      <td>20241203.0</td>\n",
       "      <td>3.900000e+01</td>\n",
       "      <td>2.021122e+07</td>\n",
       "      <td>1.501100e+05</td>\n",
       "      <td>1.309273e+07</td>\n",
       "    </tr>\n",
       "    <tr>\n",
       "      <th>75%</th>\n",
       "      <td>20241203.0</td>\n",
       "      <td>5.300000e+01</td>\n",
       "      <td>2.022021e+07</td>\n",
       "      <td>1.501350e+05</td>\n",
       "      <td>2.245342e+07</td>\n",
       "    </tr>\n",
       "    <tr>\n",
       "      <th>max</th>\n",
       "      <td>20241203.0</td>\n",
       "      <td>1.250000e+02</td>\n",
       "      <td>2.024030e+07</td>\n",
       "      <td>2.504010e+05</td>\n",
       "      <td>4.200754e+07</td>\n",
       "    </tr>\n",
       "  </tbody>\n",
       "</table>\n",
       "</div>"
      ],
      "text/plain": [
       "       FECHA_CORTE          EDAD  FECHA_RESULTADO        UBIGEO    id_persona\n",
       "count    4585360.0  4.585007e+06     4.583337e+06  4.348706e+06  1.236900e+04\n",
       "mean    20241203.0  4.079146e+01     2.021343e+07  1.298254e+05  1.475524e+07\n",
       "std            0.0  1.771647e+01     1.413774e+04  5.324980e+04  1.031654e+07\n",
       "min     20241203.0  0.000000e+00     1.899123e+07  1.010100e+04  2.130000e+03\n",
       "25%     20241203.0  2.800000e+01     2.021013e+07  1.001020e+05  5.549763e+06\n",
       "50%     20241203.0  3.900000e+01     2.021122e+07  1.501100e+05  1.309273e+07\n",
       "75%     20241203.0  5.300000e+01     2.022021e+07  1.501350e+05  2.245342e+07\n",
       "max     20241203.0  1.250000e+02     2.024030e+07  2.504010e+05  4.200754e+07"
      ]
     },
     "execution_count": 15,
     "metadata": {},
     "output_type": "execute_result"
    }
   ],
   "source": [
    "basedat.describe()"
   ]
  },
  {
   "cell_type": "code",
   "execution_count": 174,
   "id": "5f3b851e-5f85-4fa2-ac2c-63b64bca91e4",
   "metadata": {},
   "outputs": [
    {
     "name": "stdout",
     "output_type": "stream",
     "text": [
      "(4348363, 6)\n"
     ]
    }
   ],
   "source": [
    "print(basedat.shape)"
   ]
  },
  {
   "cell_type": "code",
   "execution_count": 17,
   "id": "d39b1205-c10b-412f-be6c-d224a6e643f3",
   "metadata": {},
   "outputs": [
    {
     "data": {
      "text/plain": [
       "FECHA_CORTE              0\n",
       "DEPARTAMENTO             0\n",
       "PROVINCIA                0\n",
       "DISTRITO                 0\n",
       "METODODX                 0\n",
       "EDAD                   353\n",
       "SEXO                     0\n",
       "FECHA_RESULTADO       2023\n",
       "UBIGEO              236654\n",
       "id_persona         4572991\n",
       "dtype: int64"
      ]
     },
     "execution_count": 17,
     "metadata": {},
     "output_type": "execute_result"
    }
   ],
   "source": [
    "basedat.isnull().sum()"
   ]
  },
  {
   "cell_type": "code",
   "execution_count": 19,
   "id": "811adef8-c954-493f-8cb8-813e38445ab8",
   "metadata": {},
   "outputs": [],
   "source": [
    "basedat.drop(columns = ['id_persona','UBIGEO','FECHA_RESULTADO'],inplace =True)"
   ]
  },
  {
   "cell_type": "code",
   "execution_count": 21,
   "id": "65404537-8bcd-4bd3-984d-0f077b50a932",
   "metadata": {},
   "outputs": [],
   "source": [
    "basedat.dropna(inplace=True)"
   ]
  },
  {
   "cell_type": "code",
   "execution_count": 23,
   "id": "746eb025-d267-467e-990b-bfbcd823111a",
   "metadata": {},
   "outputs": [
    {
     "name": "stdout",
     "output_type": "stream",
     "text": [
      "columna DEPARTAMENTO:25 subniveles\n",
      "columna PROVINCIA:197 subniveles\n",
      "columna DISTRITO:1705 subniveles\n",
      "columna METODODX:3 subniveles\n",
      "columna EDAD:123 subniveles\n",
      "columna SEXO:2 subniveles\n"
     ]
    }
   ],
   "source": [
    "variables =['DEPARTAMENTO','PROVINCIA','DISTRITO','METODODX','EDAD','SEXO'] \n",
    "for sub in variables:\n",
    "    print(f'columna {sub}:{basedat[sub].nunique()} subniveles')"
   ]
  },
  {
   "cell_type": "code",
   "execution_count": 25,
   "id": "81b9ea16-cca0-49b4-91a6-13c751617309",
   "metadata": {},
   "outputs": [],
   "source": [
    "basedat.drop(columns = ['FECHA_CORTE'],inplace =True)"
   ]
  },
  {
   "cell_type": "code",
   "execution_count": 129,
   "id": "74603f9d-938a-4f39-92b3-b8a121ba895f",
   "metadata": {},
   "outputs": [
    {
     "data": {
      "text/html": [
       "<div>\n",
       "<style scoped>\n",
       "    .dataframe tbody tr th:only-of-type {\n",
       "        vertical-align: middle;\n",
       "    }\n",
       "\n",
       "    .dataframe tbody tr th {\n",
       "        vertical-align: top;\n",
       "    }\n",
       "\n",
       "    .dataframe thead th {\n",
       "        text-align: right;\n",
       "    }\n",
       "</style>\n",
       "<table border=\"1\" class=\"dataframe\">\n",
       "  <thead>\n",
       "    <tr style=\"text-align: right;\">\n",
       "      <th></th>\n",
       "      <th>DEPARTAMENTO</th>\n",
       "      <th>PROVINCIA</th>\n",
       "      <th>DISTRITO</th>\n",
       "      <th>METODODX</th>\n",
       "      <th>EDAD</th>\n",
       "      <th>SEXO</th>\n",
       "    </tr>\n",
       "  </thead>\n",
       "  <tbody>\n",
       "    <tr>\n",
       "      <th>512055</th>\n",
       "      <td>LIMA</td>\n",
       "      <td>LIMA</td>\n",
       "      <td>MAGDALENA DEL MAR</td>\n",
       "      <td>PCR</td>\n",
       "      <td>125.0</td>\n",
       "      <td>MASCULINO</td>\n",
       "    </tr>\n",
       "    <tr>\n",
       "      <th>579990</th>\n",
       "      <td>LIMA</td>\n",
       "      <td>LIMA</td>\n",
       "      <td>LIMA</td>\n",
       "      <td>PCR</td>\n",
       "      <td>121.0</td>\n",
       "      <td>MASCULINO</td>\n",
       "    </tr>\n",
       "    <tr>\n",
       "      <th>1086765</th>\n",
       "      <td>LIMA</td>\n",
       "      <td>LIMA</td>\n",
       "      <td>LIMA</td>\n",
       "      <td>PCR</td>\n",
       "      <td>121.0</td>\n",
       "      <td>MASCULINO</td>\n",
       "    </tr>\n",
       "    <tr>\n",
       "      <th>1789550</th>\n",
       "      <td>LIMA</td>\n",
       "      <td>LIMA</td>\n",
       "      <td>LIMA</td>\n",
       "      <td>PCR</td>\n",
       "      <td>121.0</td>\n",
       "      <td>FEMENINO</td>\n",
       "    </tr>\n",
       "    <tr>\n",
       "      <th>2152069</th>\n",
       "      <td>LIMA</td>\n",
       "      <td>LIMA</td>\n",
       "      <td>LIMA</td>\n",
       "      <td>PCR</td>\n",
       "      <td>121.0</td>\n",
       "      <td>FEMENINO</td>\n",
       "    </tr>\n",
       "  </tbody>\n",
       "</table>\n",
       "</div>"
      ],
      "text/plain": [
       "        DEPARTAMENTO PROVINCIA           DISTRITO METODODX   EDAD       SEXO\n",
       "512055          LIMA      LIMA  MAGDALENA DEL MAR      PCR  125.0  MASCULINO\n",
       "579990          LIMA      LIMA               LIMA      PCR  121.0  MASCULINO\n",
       "1086765         LIMA      LIMA               LIMA      PCR  121.0  MASCULINO\n",
       "1789550         LIMA      LIMA               LIMA      PCR  121.0   FEMENINO\n",
       "2152069         LIMA      LIMA               LIMA      PCR  121.0   FEMENINO"
      ]
     },
     "execution_count": 129,
     "metadata": {},
     "output_type": "execute_result"
    }
   ],
   "source": [
    "edad =basedat[basedat['EDAD']>120]\n",
    "edad.head(5)"
   ]
  },
  {
   "cell_type": "code",
   "execution_count": 138,
   "id": "618f9d18-aa21-44d3-8af8-e1c48d6c8653",
   "metadata": {},
   "outputs": [
    {
     "data": {
      "image/png": "[encoded data removed]",
      "text/plain": [
       "<Figure size 800x3000 with 7 Axes>"
      ]
     },
     "metadata": {},
     "output_type": "display_data"
    }
   ],
   "source": [
    "fig, ax = plt.subplots(nrows = 7, ncols = 1, figsize =(8,30))\n",
    "fig.subplots_adjust(hspace=0.5)\n",
    "for i, col in enumerate (variables):\n",
    "    sns.boxplot(x=col, data= basedat, ax=ax[i])\n",
    "    ax[i].set_title(col)"
   ]
  },
  {
   "cell_type": "code",
   "execution_count": 27,
   "id": "97453b8f-45bb-471a-b354-1bdef6d5b4e7",
   "metadata": {},
   "outputs": [],
   "source": [
    " basedat = basedat[basedat['PROVINCIA']!='EN INVESTIGACIÓN']"
   ]
  },
  {
   "cell_type": "code",
   "execution_count": 29,
   "id": "27f78055-fda9-404b-9caf-2c03587f1e1a",
   "metadata": {},
   "outputs": [],
   "source": [
    " basedat = basedat[basedat['DISTRITO']!='EN INVESTIGACIÓN']"
   ]
  },
  {
   "cell_type": "code",
   "execution_count": 31,
   "id": "bce7c98b-c8f2-4c09-8591-2163c57baf05",
   "metadata": {},
   "outputs": [
    {
     "data": {
      "text/html": [
       "<div>\n",
       "<style scoped>\n",
       "    .dataframe tbody tr th:only-of-type {\n",
       "        vertical-align: middle;\n",
       "    }\n",
       "\n",
       "    .dataframe tbody tr th {\n",
       "        vertical-align: top;\n",
       "    }\n",
       "\n",
       "    .dataframe thead th {\n",
       "        text-align: right;\n",
       "    }\n",
       "</style>\n",
       "<table border=\"1\" class=\"dataframe\">\n",
       "  <thead>\n",
       "    <tr style=\"text-align: right;\">\n",
       "      <th></th>\n",
       "      <th>DEPARTAMENTO</th>\n",
       "      <th>PROVINCIA</th>\n",
       "      <th>DISTRITO</th>\n",
       "      <th>METODODX</th>\n",
       "      <th>EDAD</th>\n",
       "      <th>SEXO</th>\n",
       "    </tr>\n",
       "  </thead>\n",
       "  <tbody>\n",
       "    <tr>\n",
       "      <th>0</th>\n",
       "      <td>TUMBES</td>\n",
       "      <td>TUMBES</td>\n",
       "      <td>TUMBES</td>\n",
       "      <td>AG</td>\n",
       "      <td>46.0</td>\n",
       "      <td>FEMENINO</td>\n",
       "    </tr>\n",
       "    <tr>\n",
       "      <th>1</th>\n",
       "      <td>LIMA</td>\n",
       "      <td>LIMA</td>\n",
       "      <td>JESUS MARIA</td>\n",
       "      <td>AG</td>\n",
       "      <td>69.0</td>\n",
       "      <td>FEMENINO</td>\n",
       "    </tr>\n",
       "    <tr>\n",
       "      <th>2</th>\n",
       "      <td>SAN MARTIN</td>\n",
       "      <td>MOYOBAMBA</td>\n",
       "      <td>MOYOBAMBA</td>\n",
       "      <td>AG</td>\n",
       "      <td>55.0</td>\n",
       "      <td>FEMENINO</td>\n",
       "    </tr>\n",
       "    <tr>\n",
       "      <th>3</th>\n",
       "      <td>AREQUIPA</td>\n",
       "      <td>CAYLLOMA</td>\n",
       "      <td>COPORAQUE</td>\n",
       "      <td>AG</td>\n",
       "      <td>50.0</td>\n",
       "      <td>MASCULINO</td>\n",
       "    </tr>\n",
       "    <tr>\n",
       "      <th>4</th>\n",
       "      <td>LIMA</td>\n",
       "      <td>LIMA</td>\n",
       "      <td>JESUS MARIA</td>\n",
       "      <td>AG</td>\n",
       "      <td>58.0</td>\n",
       "      <td>MASCULINO</td>\n",
       "    </tr>\n",
       "    <tr>\n",
       "      <th>...</th>\n",
       "      <td>...</td>\n",
       "      <td>...</td>\n",
       "      <td>...</td>\n",
       "      <td>...</td>\n",
       "      <td>...</td>\n",
       "      <td>...</td>\n",
       "    </tr>\n",
       "    <tr>\n",
       "      <th>4585355</th>\n",
       "      <td>LIMA</td>\n",
       "      <td>LIMA</td>\n",
       "      <td>JESUS MARIA</td>\n",
       "      <td>AG</td>\n",
       "      <td>21.0</td>\n",
       "      <td>MASCULINO</td>\n",
       "    </tr>\n",
       "    <tr>\n",
       "      <th>4585356</th>\n",
       "      <td>LIMA</td>\n",
       "      <td>LIMA</td>\n",
       "      <td>EL AGUSTINO</td>\n",
       "      <td>AG</td>\n",
       "      <td>22.0</td>\n",
       "      <td>MASCULINO</td>\n",
       "    </tr>\n",
       "    <tr>\n",
       "      <th>4585357</th>\n",
       "      <td>LIMA</td>\n",
       "      <td>LIMA</td>\n",
       "      <td>ATE</td>\n",
       "      <td>AG</td>\n",
       "      <td>22.0</td>\n",
       "      <td>MASCULINO</td>\n",
       "    </tr>\n",
       "    <tr>\n",
       "      <th>4585358</th>\n",
       "      <td>LIMA</td>\n",
       "      <td>LIMA</td>\n",
       "      <td>SAN MARTIN DE PORRES</td>\n",
       "      <td>AG</td>\n",
       "      <td>22.0</td>\n",
       "      <td>MASCULINO</td>\n",
       "    </tr>\n",
       "    <tr>\n",
       "      <th>4585359</th>\n",
       "      <td>LIMA</td>\n",
       "      <td>LIMA</td>\n",
       "      <td>CARABAYLLO</td>\n",
       "      <td>AG</td>\n",
       "      <td>22.0</td>\n",
       "      <td>MASCULINO</td>\n",
       "    </tr>\n",
       "  </tbody>\n",
       "</table>\n",
       "<p>4348363 rows × 6 columns</p>\n",
       "</div>"
      ],
      "text/plain": [
       "        DEPARTAMENTO  PROVINCIA              DISTRITO METODODX  EDAD  \\\n",
       "0             TUMBES     TUMBES                TUMBES       AG  46.0   \n",
       "1               LIMA       LIMA           JESUS MARIA       AG  69.0   \n",
       "2         SAN MARTIN  MOYOBAMBA             MOYOBAMBA       AG  55.0   \n",
       "3           AREQUIPA   CAYLLOMA             COPORAQUE       AG  50.0   \n",
       "4               LIMA       LIMA           JESUS MARIA       AG  58.0   \n",
       "...              ...        ...                   ...      ...   ...   \n",
       "4585355         LIMA       LIMA           JESUS MARIA       AG  21.0   \n",
       "4585356         LIMA       LIMA           EL AGUSTINO       AG  22.0   \n",
       "4585357         LIMA       LIMA                   ATE       AG  22.0   \n",
       "4585358         LIMA       LIMA  SAN MARTIN DE PORRES       AG  22.0   \n",
       "4585359         LIMA       LIMA            CARABAYLLO       AG  22.0   \n",
       "\n",
       "              SEXO  \n",
       "0         FEMENINO  \n",
       "1         FEMENINO  \n",
       "2         FEMENINO  \n",
       "3        MASCULINO  \n",
       "4        MASCULINO  \n",
       "...            ...  \n",
       "4585355  MASCULINO  \n",
       "4585356  MASCULINO  \n",
       "4585357  MASCULINO  \n",
       "4585358  MASCULINO  \n",
       "4585359  MASCULINO  \n",
       "\n",
       "[4348363 rows x 6 columns]"
      ]
     },
     "execution_count": 31,
     "metadata": {},
     "output_type": "execute_result"
    }
   ],
   "source": [
    "basedat"
   ]
  },
  {
   "cell_type": "code",
   "execution_count": 33,
   "id": "30531f4b-8399-458f-8448-faf97bee4334",
   "metadata": {},
   "outputs": [],
   "source": [
    "basedat.to_csv('base_limpia.csv', index = False)"
   ]
  },
  {
   "cell_type": "code",
   "execution_count": null,
   "id": "88f825ad-cab0-4c61-bb50-58b97494be4c",
   "metadata": {},
   "outputs": [],
   "source": []
  }
 ],
 "metadata": {
  "kernelspec": {
   "display_name": "Python [conda env:base] *",
   "language": "python",
   "name": "conda-base-py"
  },
  "language_info": {
   "codemirror_mode": {
    "name": "ipython",
    "version": 3
   },
   "file_extension": ".py",
   "mimetype": "text/x-python",
   "name": "python",
   "nbconvert_exporter": "python",
   "pygments_lexer": "ipython3",
   "version": "3.12.7"
  }
 },
 "nbformat": 4,
 "nbformat_minor": 5
}
